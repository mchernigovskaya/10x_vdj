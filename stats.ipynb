{
 "cells": [
  {
   "cell_type": "code",
   "execution_count": 1,
   "metadata": {},
   "outputs": [],
   "source": [
    "from Bio import SeqIO\n",
    "import pandas as pd\n",
    "import numpy as np\n",
    "import re\n",
    "import os\n",
    "import random\n",
    "import subprocess\n",
    "from collections import defaultdict\n",
    "from tqdm import tqdm\n",
    "from collections import Counter\n",
    "import matplotlib.pyplot as plt\n",
    "%matplotlib inline"
   ]
  },
  {
   "cell_type": "code",
   "execution_count": 2,
   "metadata": {},
   "outputs": [],
   "source": [
    "PATH = \"/home/mchernigovskaya/data/paired/10x\""
   ]
  },
  {
   "cell_type": "code",
   "execution_count": 3,
   "metadata": {},
   "outputs": [],
   "source": [
    "bcr = ['IGH', 'IGL', 'IGK']\n",
    "tcr = ['TRA', 'TRB', 'TRG']\n",
    "trash = ['Multi', 'None']"
   ]
  },
  {
   "cell_type": "code",
   "execution_count": 4,
   "metadata": {},
   "outputs": [],
   "source": [
    "# help functions\n",
    "\n",
    "def dict_to_sorted_df_with_perc(dict_name, column_name):\n",
    "    df = dict_to_sorted_df(dict_name, ['# ' + column_name])\n",
    "    df = add_perc_to_df(df, column_name)\n",
    "    return df\n",
    "\n",
    "def dict_to_sorted_df(dict_name, column_labels):\n",
    "    df = pd.DataFrame.from_dict(dict_name, orient='index')\n",
    "    df.columns = column_labels\n",
    "    return df.sort_index(0)\n",
    "\n",
    "def add_perc_to_df(dict_name, column_name):\n",
    "    dict_name['% ' + column_name] = dict_name['# '+column_name] / sum(dict_name['# '+column_name]) * 100\n",
    "    return dict_name\n",
    "\n",
    "def get_counter_dict(v):\n",
    "    return dict(Counter(v))"
   ]
  },
  {
   "cell_type": "code",
   "execution_count": 5,
   "metadata": {},
   "outputs": [],
   "source": [
    "def get_info_by_chain_type(filtered_contigs_info, chain_type):\n",
    "    return filtered_contigs_info.loc[filtered_contigs_info['chain'].isin(chain_type)]\n",
    "    \n",
    "\n",
    "def chains_simple_stats(filtered_contigs_info):\n",
    "    \n",
    "    # dict: chain_type -> number of contigs\n",
    "    contigs_types = {chain_type: len(rows) for chain_type, rows in filtered_contigs_info.groupby('chain')}\n",
    "    \n",
    "    stats_by_contig_types = dict_to_sorted_df_with_perc(contigs_types, 'contigs')\n",
    "    \n",
    "    def summary_from_stats_by_contig_types(chain_type):\n",
    "        return sum(stats_by_contig_types.loc[stats_by_contig_types.index.isin(chain_type)]['% contigs'])\n",
    "    \n",
    "    summary = dict_to_sorted_df({\"bcr\" : [summary_from_stats_by_contig_types(bcr), \"ok\"], \n",
    "           \"tcr\" : [summary_from_stats_by_contig_types(tcr), \"filter out\"], \n",
    "           \"trash\" : [summary_from_stats_by_contig_types(trash), \"igblast for fun + filter out\"]}, [\"% contigs\", \"TODO\"])\n",
    "    \n",
    "    # print stats\n",
    "    print(\"> Number of all contigs: {}\\n\".format(sum(stats_by_contig_types['# contigs'])))\n",
    "    \n",
    "    print(\"> Contigs by chain types:\\n\")\n",
    "    print(stats_by_contig_types)\n",
    "    print(\"\\n(A value of Multi indicates that segments from multiple chains were present)\")\n",
    "    \n",
    "    print(\"\\n> Summary:\\n\")\n",
    "    print(summary)\n",
    "    \n",
    "\n",
    "def cells_simple_stats(bcr_contigs_info):\n",
    "    \n",
    "    # dict : cell_barcode -> number of bcr chains\n",
    "    cells_types = {cell_barcode : len(rows) for cell_barcode, rows in bcr_contigs_info.groupby('barcode')}\n",
    "    \n",
    "    summary = dict_to_sorted_df_with_perc(get_counter_dict(cells_types.values()), 'cells')\n",
    "    summary.index = [str(name) + \" chains\" for name in summary.index]\n",
    "     \n",
    "    # dict: cell_barcode -> counts of bcr chains \n",
    "    chains_counts_by_cell = {cell_barcode : str(get_counter_dict(rows['chain'])) for cell_barcode, rows in bcr_contigs_info.groupby('barcode')}\n",
    "    accurate_counts = dict_to_sorted_df_with_perc(get_counter_dict(chains_counts_by_cell.values()), 'cells')\n",
    "    accurate_counts = accurate_counts.sort_values(by='# cells',  ascending=False)\n",
    "    \n",
    "    \n",
    "    # print stats\n",
    "    print(\"> Number of all cells: {}\\n\".format(len(cells_types)))\n",
    "    \n",
    "    print(\"> Cells by number of all chains\\n\")\n",
    "    print(summary)\n",
    "    \n",
    "    print(\"\\n> Cells by combination of chains\\n\")\n",
    "    print(accurate_counts)\n",
    "    \n",
    "\n",
    "def trash_simple_stats(trash_contigs_info):\n",
    "    print(\"Looks like we should use treshold = 10\")\n",
    "    \n",
    "    umis_counts = dict_to_sorted_df_with_perc(get_counter_dict(trash_contigs_info['umis']), 'umis')\n",
    "    print(umis_counts)\n",
    "\n",
    "    \n",
    "def plot_umis_distribution(bcr_contigs_info):\n",
    "    plt.hist(bcr_contigs_info['umis'], bins=range(0, 100), range=(0, 100))  \n",
    "\n",
    "    \n",
    "def filter_umis(contigs_info, treshold):\n",
    "    return contigs_info.loc[contigs_info['umis'] > treshold]\n",
    "\n",
    "\n",
    "def report_filtered_bcrs(filtered_bcr_contigs_info, contigs_fname):\n",
    "    filtered_contig_id = set(filtered_bcr_contigs_info['contig_id'])\n",
    "    contigs_fname_out = contigs_fname[:-6] + '_filtered.fasta' \n",
    "    open(contigs_fname_out, 'w').close()\n",
    "    with open(contigs_fname_out, 'a') as f:\n",
    "        for rec in SeqIO.parse(contigs_fname, \"fasta\"):\n",
    "            if rec.id in filtered_contig_id: \n",
    "                SeqIO.write(rec, f, \"fasta\")\n",
    "    print('\\nFiltered bcrs contigs were written to {}\\n'.format(contigs_fname_out))\n"
   ]
  },
  {
   "cell_type": "code",
   "execution_count": 6,
   "metadata": {},
   "outputs": [],
   "source": [
    "def process_filtered_contigs_csv(dataset_name):\n",
    "    \n",
    "    annotation_fname = PATH + '/{}/vdj_v1_{}_b_filtered_contig_annotations.csv'.format(dataset_name, dataset_name)\n",
    "    \n",
    "    # read filtered_contig_annotations.csv\n",
    "    filtered_contigs_info = pd.read_csv(annotation_fname, delimiter=',')\n",
    "    filtered_contigs_info = filter_umis(filtered_contigs_info, 10)\n",
    "    \n",
    "    print(\"\\n\\n=========== contigs ===========\\n\\n\")\n",
    "    chains_simple_stats(filtered_contigs_info)\n",
    "\n",
    "    print(\"\\n\\n=========== bcr chains ===========\\n\\n\")    \n",
    "    bcr_contigs_info = get_info_by_chain_type(filtered_contigs_info, bcr)   \n",
    "    \n",
    "    cells_simple_stats(bcr_contigs_info)\n",
    "    \n",
    "#     print(\"\\n\\n=========== trash chains coverage ===========\\n\\n\")\n",
    "#     trash_contigs_info = get_info_by_chain_type(filtered_contigs_info, trash)\n",
    "#     trash_simple_stats(trash_contigs_info)\n",
    "    \n",
    "#     plot_umis_distribution(bcr_contigs_info)\n",
    "\n",
    "    contigs_fname = PATH + '/{}/vdj_v1_{}_b_filtered_contig.fasta'.format(dataset_name, dataset_name)\n",
    "    report_filtered_bcrs(bcr_contigs_info, contigs_fname)\n",
    "    \n",
    "    "
   ]
  },
  {
   "cell_type": "markdown",
   "metadata": {},
   "source": [
    "# CD19"
   ]
  },
  {
   "cell_type": "markdown",
   "metadata": {},
   "source": [
    "CD19+ B cells isolated from peripheral blood mononuclear cells (PBMCs) of a healthy donor, purchased from AllCells (Catalog #: PB010-0), 93% viable by Trypan blue stain.\n",
    "\n",
    "CD19+ B cells are primary cells with relatively small amounts of RNA (~1pg RNA/cell).\n",
    "\n",
    "Libraries were prepared following the Single Cell V(D)J Reagent Kits User Guide (CG000086 RevC).\n",
    "\n"
   ]
  },
  {
   "cell_type": "code",
   "execution_count": 7,
   "metadata": {},
   "outputs": [
    {
     "name": "stdout",
     "output_type": "stream",
     "text": [
      "\n",
      "\n",
      "=========== contigs ===========\n",
      "\n",
      "\n",
      "> Number of all contigs: 18407\n",
      "\n",
      "> Contigs by chain types:\n",
      "\n",
      "       # contigs  % contigs\n",
      "IGH         7518  40.843157\n",
      "IGK         6435  34.959526\n",
      "IGL         4267  23.181398\n",
      "Multi        183   0.994187\n",
      "TRA            1   0.005433\n",
      "TRB            3   0.016298\n",
      "\n",
      "(A value of Multi indicates that segments from multiple chains were present)\n",
      "\n",
      "> Summary:\n",
      "\n",
      "       % contigs                          TODO\n",
      "bcr    98.984082                            ok\n",
      "tcr     0.021731                    filter out\n",
      "trash   0.994187  igblast for fun + filter out\n",
      "\n",
      "\n",
      "=========== bcr chains ===========\n",
      "\n",
      "\n",
      "> Number of all cells: 9188\n",
      "\n",
      "> Cells by number of all chains\n",
      "\n",
      "          # cells    % cells\n",
      "1 chains     2024  22.028733\n",
      "2 chains     5749  62.570744\n",
      "3 chains     1066  11.602090\n",
      "4 chains      264   2.873313\n",
      "5 chains       71   0.772747\n",
      "6 chains       10   0.108838\n",
      "7 chains        3   0.032651\n",
      "8 chains        1   0.010884\n",
      "\n",
      "> Cells by combination of chains\n",
      "\n",
      "                                # cells    % cells\n",
      "{'IGK': 1, 'IGH': 1}               3437  37.407488\n",
      "{'IGL': 1, 'IGH': 1}               2107  22.932085\n",
      "{'IGK': 1}                         1177  12.810187\n",
      "{'IGL': 1}                          700   7.618633\n",
      "{'IGK': 2, 'IGH': 1}                387   4.212016\n",
      "{'IGL': 1, 'IGK': 1, 'IGH': 1}      286   3.112756\n",
      "{'IGL': 2, 'IGH': 1}                283   3.080104\n",
      "{'IGH': 1}                          147   1.599913\n",
      "{'IGL': 1, 'IGK': 1, 'IGH': 2}      106   1.153679\n",
      "{'IGK': 2}                           94   1.023074\n",
      "{'IGK': 1, 'IGH': 2}                 74   0.805398\n",
      "{'IGL': 2}                           60   0.653026\n",
      "{'IGK': 2, 'IGH': 2}                 57   0.620374\n",
      "{'IGL': 1, 'IGK': 1}                 50   0.544188\n",
      "{'IGL': 2, 'IGH': 2}                 41   0.446234\n",
      "{'IGL': 1, 'IGH': 2}                 31   0.337397\n",
      "{'IGL': 1, 'IGK': 2, 'IGH': 1}       25   0.272094\n",
      "{'IGL': 1, 'IGK': 2, 'IGH': 2}       25   0.272094\n",
      "{'IGL': 2, 'IGK': 1, 'IGH': 2}       23   0.250327\n",
      "{'IGL': 2, 'IGK': 1, 'IGH': 1}       21   0.228559\n",
      "{'IGL': 1, 'IGK': 1, 'IGH': 3}        7   0.076186\n",
      "{'IGK': 3, 'IGH': 2}                  6   0.065303\n",
      "{'IGL': 3, 'IGH': 1}                  5   0.054419\n",
      "{'IGK': 3, 'IGH': 1}                  4   0.043535\n",
      "{'IGL': 4, 'IGH': 2}                  3   0.032651\n",
      "{'IGK': 1, 'IGH': 3}                  3   0.032651\n",
      "{'IGL': 1, 'IGK': 3, 'IGH': 1}        2   0.021768\n",
      "{'IGL': 3, 'IGK': 1, 'IGH': 3}        2   0.021768\n",
      "{'IGL': 1, 'IGK': 2}                  2   0.021768\n",
      "{'IGL': 2, 'IGH': 3}                  2   0.021768\n",
      "{'IGL': 3, 'IGH': 2}                  2   0.021768\n",
      "{'IGL': 2, 'IGK': 1}                  2   0.021768\n",
      "{'IGK': 2, 'IGH': 3}                  2   0.021768\n",
      "{'IGL': 2, 'IGK': 2, 'IGH': 2}        2   0.021768\n",
      "{'IGL': 2, 'IGK': 3, 'IGH': 3}        1   0.010884\n",
      "{'IGL': 3, 'IGK': 1, 'IGH': 2}        1   0.010884\n",
      "{'IGL': 3, 'IGK': 1, 'IGH': 1}        1   0.010884\n",
      "{'IGL': 3, 'IGH': 3}                  1   0.010884\n",
      "{'IGL': 2, 'IGK': 2, 'IGH': 1}        1   0.010884\n",
      "{'IGL': 1, 'IGK': 3, 'IGH': 2}        1   0.010884\n",
      "{'IGL': 2, 'IGK': 1, 'IGH': 3}        1   0.010884\n",
      "{'IGK': 3}                            1   0.010884\n",
      "{'IGK': 4, 'IGH': 2}                  1   0.010884\n",
      "{'IGL': 1, 'IGH': 3}                  1   0.010884\n",
      "{'IGH': 2}                            1   0.010884\n",
      "{'IGL': 1, 'IGK': 3}                  1   0.010884\n",
      "{'IGL': 1, 'IGK': 2, 'IGH': 4}        1   0.010884\n",
      "\n",
      "Filtered bcrs contigs were written to /home/mchernigovskaya/data/paired/10x/cd19/vdj_v1_cd19_b_filtered_contig_filtered.fasta\n",
      "\n"
     ]
    }
   ],
   "source": [
    "process_filtered_contigs_csv('cd19')"
   ]
  },
  {
   "cell_type": "markdown",
   "metadata": {},
   "source": [
    "# GM12878"
   ]
  },
  {
   "cell_type": "markdown",
   "metadata": {},
   "source": [
    "B-lymphoblastoid cell line GM12878, purchased from Coriell (Catalog #: GM12878), 87% viable by Trypan blue stain.\n",
    "\n",
    "GM12878 cells are a B-lymphoblastoid cell line with high expression level of Ig transcripts (mostly IGHM/D and IGL isotype).\n",
    "\n",
    "Libraries were prepared following the Single Cell V(D)J Reagent Kits User Guide (CG000086 RevC)."
   ]
  },
  {
   "cell_type": "code",
   "execution_count": 8,
   "metadata": {
    "scrolled": true
   },
   "outputs": [
    {
     "name": "stdout",
     "output_type": "stream",
     "text": [
      "\n",
      "\n",
      "=========== contigs ===========\n",
      "\n",
      "\n",
      "> Number of all contigs: 1882\n",
      "\n",
      "> Contigs by chain types:\n",
      "\n",
      "       # contigs  % contigs\n",
      "IGH          735  39.054198\n",
      "IGK            6   0.318810\n",
      "IGL         1051  55.844846\n",
      "Multi         87   4.622742\n",
      "TRB            3   0.159405\n",
      "\n",
      "(A value of Multi indicates that segments from multiple chains were present)\n",
      "\n",
      "> Summary:\n",
      "\n",
      "       % contigs                          TODO\n",
      "bcr    95.217853                            ok\n",
      "tcr     0.159405                    filter out\n",
      "trash   4.622742  igblast for fun + filter out\n",
      "\n",
      "\n",
      "=========== bcr chains ===========\n",
      "\n",
      "\n",
      "> Number of all cells: 845\n",
      "\n",
      "> Cells by number of all chains\n",
      "\n",
      "          # cells    % cells\n",
      "1 chains      151  17.869822\n",
      "2 chains      477  56.449704\n",
      "3 chains      183  21.656805\n",
      "4 chains       32   3.786982\n",
      "5 chains        2   0.236686\n",
      "\n",
      "> Cells by combination of chains\n",
      "\n",
      "                      # cells    % cells\n",
      "{'IGL': 1, 'IGH': 1}      408  48.284024\n",
      "{'IGL': 2, 'IGH': 1}      170  20.118343\n",
      "{'IGL': 1}                 97  11.479290\n",
      "{'IGL': 2}                 62   7.337278\n",
      "{'IGH': 1}                 54   6.390533\n",
      "{'IGL': 2, 'IGH': 2}       32   3.786982\n",
      "{'IGL': 1, 'IGH': 2}       13   1.538462\n",
      "{'IGK': 1, 'IGH': 1}        5   0.591716\n",
      "{'IGL': 2, 'IGH': 3}        2   0.236686\n",
      "{'IGH': 2}                  1   0.118343\n",
      "{'IGL': 1, 'IGK': 1}        1   0.118343\n",
      "\n",
      "Filtered bcrs contigs were written to /home/mchernigovskaya/data/paired/10x/gm12878/vdj_v1_gm12878_b_filtered_contig_filtered.fasta\n",
      "\n"
     ]
    }
   ],
   "source": [
    "process_filtered_contigs_csv('gm12878')"
   ]
  },
  {
   "cell_type": "markdown",
   "metadata": {},
   "source": [
    "# PBMC"
   ]
  },
  {
   "cell_type": "markdown",
   "metadata": {},
   "source": [
    "Peripheral blood mononuclear cells (PBMCs) from a healthy donor, purchased from AllCells (Catalog #: PB001). >90% viable by Trypan blue stain. CD3+ population is estimated ~50% by FACs.\n",
    "\n",
    "PBMCs are primary cells with relatively small amounts of RNA (~1pg RNA/cell)."
   ]
  },
  {
   "cell_type": "code",
   "execution_count": 15,
   "metadata": {},
   "outputs": [
    {
     "name": "stdout",
     "output_type": "stream",
     "text": [
      "\n",
      "\n",
      "=========== contigs ===========\n",
      "\n",
      "\n",
      "> Number of all contigs: 718\n",
      "\n",
      "> Contigs by chain types:\n",
      "\n",
      "       # contigs  % contigs\n",
      "Multi          4   0.557103\n",
      "TRA           49   6.824513\n",
      "TRB          665  92.618384\n",
      "\n",
      "(A value of Multi indicates that segments from multiple chains were present)\n",
      "\n",
      "> Summary:\n",
      "\n",
      "       % contigs                          TODO\n",
      "bcr     0.000000                            ok\n",
      "tcr    99.442897                    filter out\n",
      "trash   0.557103  igblast for fun + filter out\n"
     ]
    }
   ],
   "source": [
    "process_filtered_contigs_csv('pbmc')"
   ]
  },
  {
   "cell_type": "markdown",
   "metadata": {},
   "source": [
    "# tree visualizer hack"
   ]
  },
  {
   "cell_type": "code",
   "execution_count": null,
   "metadata": {},
   "outputs": [],
   "source": []
  },
  {
   "cell_type": "code",
   "execution_count": null,
   "metadata": {},
   "outputs": [],
   "source": []
  },
  {
   "cell_type": "code",
   "execution_count": null,
   "metadata": {},
   "outputs": [],
   "source": []
  },
  {
   "cell_type": "code",
   "execution_count": null,
   "metadata": {},
   "outputs": [],
   "source": []
  },
  {
   "cell_type": "code",
   "execution_count": null,
   "metadata": {},
   "outputs": [],
   "source": []
  },
  {
   "cell_type": "code",
   "execution_count": null,
   "metadata": {},
   "outputs": [],
   "source": []
  },
  {
   "cell_type": "code",
   "execution_count": null,
   "metadata": {},
   "outputs": [],
   "source": []
  }
 ],
 "metadata": {
  "kernelspec": {
   "display_name": "Python 3",
   "language": "python",
   "name": "python3"
  },
  "language_info": {
   "codemirror_mode": {
    "name": "ipython",
    "version": 2
   },
   "file_extension": ".py",
   "mimetype": "text/x-python",
   "name": "python",
   "nbconvert_exporter": "python",
   "pygments_lexer": "ipython2",
   "version": "2.7.13"
  }
 },
 "nbformat": 4,
 "nbformat_minor": 2
}
