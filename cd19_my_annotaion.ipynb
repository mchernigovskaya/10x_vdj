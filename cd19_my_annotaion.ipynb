{
 "cells": [
  {
   "cell_type": "code",
   "execution_count": 1,
   "metadata": {},
   "outputs": [],
   "source": [
    "import pandas as pd\n",
    "import numpy as np\n",
    "import re\n",
    "import os\n",
    "import random\n",
    "import subprocess\n",
    "from collections import defaultdict\n",
    "from collections import Counter\n",
    "import matplotlib.pyplot as plt\n",
    "from Bio import SeqIO\n",
    "from tqdm import tqdm\n",
    "%matplotlib inline"
   ]
  },
  {
   "cell_type": "code",
   "execution_count": 2,
   "metadata": {},
   "outputs": [],
   "source": [
    "PATH = \"/home/mchernigovskaya/data/paired/10x\""
   ]
  },
  {
   "cell_type": "code",
   "execution_count": 3,
   "metadata": {},
   "outputs": [],
   "source": [
    "# help functions\n",
    "\n",
    "def dict_to_sorted_df_with_perc(dict_name, column_name):\n",
    "    df = dict_to_sorted_df(dict_name, ['# ' + column_name])\n",
    "    df = add_perc_to_df(df, column_name)\n",
    "    return df\n",
    "\n",
    "def dict_to_sorted_df(dict_name, column_labels):\n",
    "    df = pd.DataFrame.from_dict(dict_name, orient='index')\n",
    "    df.columns = column_labels\n",
    "    return df.sort_index(0)\n",
    "\n",
    "def add_perc_to_df(dict_name, column_name):\n",
    "    dict_name['% ' + column_name] = dict_name['# '+column_name] / sum(dict_name['# '+column_name]) * 100\n",
    "    return dict_name\n",
    "\n",
    "def get_counter_dict(v):\n",
    "    return dict(Counter(v))"
   ]
  },
  {
   "cell_type": "markdown",
   "metadata": {},
   "source": [
    "# 0. Filter contigs by number of UMIs"
   ]
  },
  {
   "cell_type": "markdown",
   "metadata": {},
   "source": [
    "Filter out contigs with #UMIs <= N_UMIS "
   ]
  },
  {
   "cell_type": "code",
   "execution_count": 4,
   "metadata": {},
   "outputs": [],
   "source": [
    "N_UMIS = 5"
   ]
  },
  {
   "cell_type": "code",
   "execution_count": 5,
   "metadata": {},
   "outputs": [],
   "source": [
    "dataset_name = 'cd19'\n",
    "\n",
    "annotation_fname = PATH + '/{}/vdj_v1_{}_b_filtered_contig_annotations.csv'.format(dataset_name, dataset_name)\n",
    "contigs_fname = PATH + '/{}/vdj_v1_{}_b_filtered_contig.fasta'.format(dataset_name, dataset_name)\n",
    "\n",
    "filtered_annotation_fname = annotation_fname[:-4] + '_filtered_{}_UMIs.csv'.format(N_UMIS) \n",
    "filtered_contigs_fname = contigs_fname[:-6] + '_filtered_{}_UMIs.fasta'.format(N_UMIS) "
   ]
  },
  {
   "cell_type": "code",
   "execution_count": 6,
   "metadata": {},
   "outputs": [],
   "source": [
    "def filter_contigs_info_by_umis(annotation_fname, treshold=N_UMIS):\n",
    "    contigs_info = pd.read_csv(annotation_fname, delimiter=',')\n",
    "    return contigs_info.loc[contigs_info['umis'] > treshold]\n",
    "    \n",
    "    \n",
    "def report_filtered_files(filtered_contigs_info, contigs_fname):\n",
    "    filtered_contigs_info.to_csv(filtered_annotation_fname)\n",
    "    print('\\nFiltered annotation was written to {}\\n'.format(filtered_annotation_fname))    \n",
    "    \n",
    "    filtered_contig_id = set(filtered_contigs_info['contig_id'])\n",
    "    # overwrite the old data \n",
    "    open(filtered_contigs_fname, 'w').close()\n",
    "    with open(filtered_contigs_fname, 'a') as f:\n",
    "        for rec in SeqIO.parse(contigs_fname, \"fasta\"):\n",
    "            if rec.id in filtered_contig_id: \n",
    "                SeqIO.write(rec, f, \"fasta\")\n",
    "    print('\\nFiltered contigs were written to {}\\n'.format(filtered_contigs_fname))\n",
    "\n",
    "    \n",
    "def filter_contigs(annotation_fname, contigs_fname): \n",
    "    filtered_contigs_info = filter_contigs_info_by_umis(annotation_fname)\n",
    "    report_filtered_files(filtered_contigs_info, contigs_fname)"
   ]
  },
  {
   "cell_type": "code",
   "execution_count": 7,
   "metadata": {},
   "outputs": [
    {
     "name": "stdout",
     "output_type": "stream",
     "text": [
      "\n",
      "Filtered annotation was written to /home/mchernigovskaya/data/paired/10x/cd19/vdj_v1_cd19_b_filtered_contig_annotations_filtered_5_UMIs.csv\n",
      "\n",
      "\n",
      "Filtered contigs were written to /home/mchernigovskaya/data/paired/10x/cd19/vdj_v1_cd19_b_filtered_contig_filtered_5_UMIs.fasta\n",
      "\n"
     ]
    }
   ],
   "source": [
    "filter_contigs(annotation_fname, contigs_fname)"
   ]
  },
  {
   "cell_type": "markdown",
   "metadata": {},
   "source": [
    "# 1. Process 10x annotation: Multi chains"
   ]
  },
  {
   "cell_type": "markdown",
   "metadata": {},
   "source": [
    "Looking for trash in 10x annotation. I strongly believe that multi contigs are wrong. "
   ]
  },
  {
   "cell_type": "code",
   "execution_count": 8,
   "metadata": {},
   "outputs": [],
   "source": [
    "filtered_contigs_annotation = pd.read_csv(filtered_annotation_fname, index_col='contig_id')"
   ]
  },
  {
   "cell_type": "code",
   "execution_count": 9,
   "metadata": {},
   "outputs": [
    {
     "data": {
      "text/html": [
       "<div>\n",
       "<table border=\"1\" class=\"dataframe\">\n",
       "  <thead>\n",
       "    <tr style=\"text-align: right;\">\n",
       "      <th></th>\n",
       "      <th>Unnamed: 0</th>\n",
       "      <th>barcode</th>\n",
       "      <th>is_cell</th>\n",
       "      <th>high_confidence</th>\n",
       "      <th>length</th>\n",
       "      <th>chain</th>\n",
       "      <th>v_gene</th>\n",
       "      <th>d_gene</th>\n",
       "      <th>j_gene</th>\n",
       "      <th>c_gene</th>\n",
       "      <th>full_length</th>\n",
       "      <th>productive</th>\n",
       "      <th>cdr3</th>\n",
       "      <th>cdr3_nt</th>\n",
       "      <th>reads</th>\n",
       "      <th>umis</th>\n",
       "      <th>raw_clonotype_id</th>\n",
       "      <th>raw_consensus_id</th>\n",
       "    </tr>\n",
       "    <tr>\n",
       "      <th>contig_id</th>\n",
       "      <th></th>\n",
       "      <th></th>\n",
       "      <th></th>\n",
       "      <th></th>\n",
       "      <th></th>\n",
       "      <th></th>\n",
       "      <th></th>\n",
       "      <th></th>\n",
       "      <th></th>\n",
       "      <th></th>\n",
       "      <th></th>\n",
       "      <th></th>\n",
       "      <th></th>\n",
       "      <th></th>\n",
       "      <th></th>\n",
       "      <th></th>\n",
       "      <th></th>\n",
       "      <th></th>\n",
       "    </tr>\n",
       "  </thead>\n",
       "  <tbody>\n",
       "    <tr>\n",
       "      <th>AAACCTGAGACCACGA-1_contig_1</th>\n",
       "      <td>0</td>\n",
       "      <td>AAACCTGAGACCACGA-1</td>\n",
       "      <td>True</td>\n",
       "      <td>True</td>\n",
       "      <td>744</td>\n",
       "      <td>IGL</td>\n",
       "      <td>IGLV3-21</td>\n",
       "      <td>None</td>\n",
       "      <td>IGLJ2</td>\n",
       "      <td>IGLC2</td>\n",
       "      <td>True</td>\n",
       "      <td>True</td>\n",
       "      <td>CQVWDSNSDHVVF</td>\n",
       "      <td>TGTCAGGTGTGGGATAGTAATAGTGATCATGTGGTCTTC</td>\n",
       "      <td>3309</td>\n",
       "      <td>35</td>\n",
       "      <td>clonotype109</td>\n",
       "      <td>clonotype109_consensus_1</td>\n",
       "    </tr>\n",
       "    <tr>\n",
       "      <th>AAACCTGAGACCACGA-1_contig_2</th>\n",
       "      <td>1</td>\n",
       "      <td>AAACCTGAGACCACGA-1</td>\n",
       "      <td>True</td>\n",
       "      <td>True</td>\n",
       "      <td>587</td>\n",
       "      <td>IGH</td>\n",
       "      <td>IGHV1-2</td>\n",
       "      <td>IGHD1-1</td>\n",
       "      <td>IGHJ6</td>\n",
       "      <td>IGHD</td>\n",
       "      <td>True</td>\n",
       "      <td>True</td>\n",
       "      <td>CATGRTDHSDGMDVW</td>\n",
       "      <td>TGTGCGACTGGAAGGACCGACCACTCTGACGGTATGGACGTCTGG</td>\n",
       "      <td>5256</td>\n",
       "      <td>20</td>\n",
       "      <td>clonotype109</td>\n",
       "      <td>clonotype109_consensus_2</td>\n",
       "    </tr>\n",
       "    <tr>\n",
       "      <th>AAACCTGAGCGTAATA-1_contig_3</th>\n",
       "      <td>4</td>\n",
       "      <td>AAACCTGAGCGTAATA-1</td>\n",
       "      <td>True</td>\n",
       "      <td>True</td>\n",
       "      <td>625</td>\n",
       "      <td>IGH</td>\n",
       "      <td>IGHV3-33</td>\n",
       "      <td>IGHD3-10</td>\n",
       "      <td>IGHJ5</td>\n",
       "      <td>IGHM</td>\n",
       "      <td>True</td>\n",
       "      <td>True</td>\n",
       "      <td>CARDRGDTMVRGVSNWFDPW</td>\n",
       "      <td>TGTGCGAGAGATCGCGGGGATACTATGGTTCGGGGAGTTAGTAACT...</td>\n",
       "      <td>7191</td>\n",
       "      <td>30</td>\n",
       "      <td>clonotype110</td>\n",
       "      <td>clonotype110_consensus_2</td>\n",
       "    </tr>\n",
       "    <tr>\n",
       "      <th>AAACCTGAGCGTAATA-1_contig_5</th>\n",
       "      <td>6</td>\n",
       "      <td>AAACCTGAGCGTAATA-1</td>\n",
       "      <td>True</td>\n",
       "      <td>True</td>\n",
       "      <td>680</td>\n",
       "      <td>IGL</td>\n",
       "      <td>IGLV2-14</td>\n",
       "      <td>None</td>\n",
       "      <td>IGLJ1</td>\n",
       "      <td>IGLC1</td>\n",
       "      <td>True</td>\n",
       "      <td>True</td>\n",
       "      <td>CSSYTSSSTLYVF</td>\n",
       "      <td>TGCAGCTCATATACAAGCAGCAGCACCCTTTATGTCTTC</td>\n",
       "      <td>4089</td>\n",
       "      <td>33</td>\n",
       "      <td>clonotype110</td>\n",
       "      <td>clonotype110_consensus_1</td>\n",
       "    </tr>\n",
       "    <tr>\n",
       "      <th>AAACCTGAGGCATTGG-1_contig_1</th>\n",
       "      <td>7</td>\n",
       "      <td>AAACCTGAGGCATTGG-1</td>\n",
       "      <td>True</td>\n",
       "      <td>True</td>\n",
       "      <td>643</td>\n",
       "      <td>IGL</td>\n",
       "      <td>IGLV2-18</td>\n",
       "      <td>None</td>\n",
       "      <td>IGLJ1</td>\n",
       "      <td>IGLC1</td>\n",
       "      <td>True</td>\n",
       "      <td>True</td>\n",
       "      <td>CSSYTSSNTYVF</td>\n",
       "      <td>TGCAGCTCATATACAAGCAGCAACACTTATGTCTTC</td>\n",
       "      <td>9589</td>\n",
       "      <td>66</td>\n",
       "      <td>clonotype111</td>\n",
       "      <td>clonotype111_consensus_1</td>\n",
       "    </tr>\n",
       "  </tbody>\n",
       "</table>\n",
       "</div>"
      ],
      "text/plain": [
       "                             Unnamed: 0             barcode is_cell  \\\n",
       "contig_id                                                             \n",
       "AAACCTGAGACCACGA-1_contig_1           0  AAACCTGAGACCACGA-1    True   \n",
       "AAACCTGAGACCACGA-1_contig_2           1  AAACCTGAGACCACGA-1    True   \n",
       "AAACCTGAGCGTAATA-1_contig_3           4  AAACCTGAGCGTAATA-1    True   \n",
       "AAACCTGAGCGTAATA-1_contig_5           6  AAACCTGAGCGTAATA-1    True   \n",
       "AAACCTGAGGCATTGG-1_contig_1           7  AAACCTGAGGCATTGG-1    True   \n",
       "\n",
       "                            high_confidence  length chain    v_gene    d_gene  \\\n",
       "contig_id                                                                       \n",
       "AAACCTGAGACCACGA-1_contig_1            True     744   IGL  IGLV3-21      None   \n",
       "AAACCTGAGACCACGA-1_contig_2            True     587   IGH   IGHV1-2   IGHD1-1   \n",
       "AAACCTGAGCGTAATA-1_contig_3            True     625   IGH  IGHV3-33  IGHD3-10   \n",
       "AAACCTGAGCGTAATA-1_contig_5            True     680   IGL  IGLV2-14      None   \n",
       "AAACCTGAGGCATTGG-1_contig_1            True     643   IGL  IGLV2-18      None   \n",
       "\n",
       "                            j_gene c_gene full_length productive  \\\n",
       "contig_id                                                          \n",
       "AAACCTGAGACCACGA-1_contig_1  IGLJ2  IGLC2        True       True   \n",
       "AAACCTGAGACCACGA-1_contig_2  IGHJ6   IGHD        True       True   \n",
       "AAACCTGAGCGTAATA-1_contig_3  IGHJ5   IGHM        True       True   \n",
       "AAACCTGAGCGTAATA-1_contig_5  IGLJ1  IGLC1        True       True   \n",
       "AAACCTGAGGCATTGG-1_contig_1  IGLJ1  IGLC1        True       True   \n",
       "\n",
       "                                             cdr3  \\\n",
       "contig_id                                           \n",
       "AAACCTGAGACCACGA-1_contig_1         CQVWDSNSDHVVF   \n",
       "AAACCTGAGACCACGA-1_contig_2       CATGRTDHSDGMDVW   \n",
       "AAACCTGAGCGTAATA-1_contig_3  CARDRGDTMVRGVSNWFDPW   \n",
       "AAACCTGAGCGTAATA-1_contig_5         CSSYTSSSTLYVF   \n",
       "AAACCTGAGGCATTGG-1_contig_1          CSSYTSSNTYVF   \n",
       "\n",
       "                                                                       cdr3_nt  \\\n",
       "contig_id                                                                        \n",
       "AAACCTGAGACCACGA-1_contig_1            TGTCAGGTGTGGGATAGTAATAGTGATCATGTGGTCTTC   \n",
       "AAACCTGAGACCACGA-1_contig_2      TGTGCGACTGGAAGGACCGACCACTCTGACGGTATGGACGTCTGG   \n",
       "AAACCTGAGCGTAATA-1_contig_3  TGTGCGAGAGATCGCGGGGATACTATGGTTCGGGGAGTTAGTAACT...   \n",
       "AAACCTGAGCGTAATA-1_contig_5            TGCAGCTCATATACAAGCAGCAGCACCCTTTATGTCTTC   \n",
       "AAACCTGAGGCATTGG-1_contig_1               TGCAGCTCATATACAAGCAGCAACACTTATGTCTTC   \n",
       "\n",
       "                             reads  umis raw_clonotype_id  \\\n",
       "contig_id                                                   \n",
       "AAACCTGAGACCACGA-1_contig_1   3309    35     clonotype109   \n",
       "AAACCTGAGACCACGA-1_contig_2   5256    20     clonotype109   \n",
       "AAACCTGAGCGTAATA-1_contig_3   7191    30     clonotype110   \n",
       "AAACCTGAGCGTAATA-1_contig_5   4089    33     clonotype110   \n",
       "AAACCTGAGGCATTGG-1_contig_1   9589    66     clonotype111   \n",
       "\n",
       "                                     raw_consensus_id  \n",
       "contig_id                                              \n",
       "AAACCTGAGACCACGA-1_contig_1  clonotype109_consensus_1  \n",
       "AAACCTGAGACCACGA-1_contig_2  clonotype109_consensus_2  \n",
       "AAACCTGAGCGTAATA-1_contig_3  clonotype110_consensus_2  \n",
       "AAACCTGAGCGTAATA-1_contig_5  clonotype110_consensus_1  \n",
       "AAACCTGAGGCATTGG-1_contig_1  clonotype111_consensus_1  "
      ]
     },
     "execution_count": 9,
     "metadata": {},
     "output_type": "execute_result"
    }
   ],
   "source": [
    "filtered_contigs_annotation.head()"
   ]
  },
  {
   "cell_type": "markdown",
   "metadata": {},
   "source": [
    "##  1.1. Multi chains are longer than common BCR contigs"
   ]
  },
  {
   "cell_type": "markdown",
   "metadata": {},
   "source": [
    "Some contigs are too long (Multi and TRB)"
   ]
  },
  {
   "cell_type": "code",
   "execution_count": 10,
   "metadata": {},
   "outputs": [
    {
     "name": "stdout",
     "output_type": "stream",
     "text": [
      "Number of all chains: 22096\n"
     ]
    },
    {
     "data": {
      "image/png": "[encoded data removed]",
      "text/plain": [
       "<matplotlib.figure.Figure at 0x7fb0339dfa90>"
      ]
     },
     "metadata": {},
     "output_type": "display_data"
    }
   ],
   "source": [
    "print(\"Number of all chains: {}\".format(len(filtered_contigs_annotation)))\n",
    "plt.hist(filtered_contigs_annotation['length'])  \n",
    "plt.show()"
   ]
  },
  {
   "cell_type": "code",
   "execution_count": 11,
   "metadata": {},
   "outputs": [],
   "source": [
    "def show_len_distr(chain):\n",
    "    specific_chain = filtered_contigs_annotation.loc[filtered_contigs_annotation['chain'] == chain]\n",
    "    print(\"Number of {} chains: {}\".format(chain, len(specific_chain)))\n",
    "    plt.hist(specific_chain['length'])\n",
    "    plt.show()"
   ]
  },
  {
   "cell_type": "code",
   "execution_count": 12,
   "metadata": {},
   "outputs": [
    {
     "name": "stdout",
     "output_type": "stream",
     "text": [
      "Number of Multi chains: 1203\n"
     ]
    },
    {
     "data": {
      "image/png": "[encoded data removed]",
      "text/plain": [
       "<matplotlib.figure.Figure at 0x7fb0335ef710>"
      ]
     },
     "metadata": {},
     "output_type": "display_data"
    },
    {
     "name": "stdout",
     "output_type": "stream",
     "text": [
      "Number of TRB chains: 76\n"
     ]
    },
    {
     "data": {
      "image/png": "[encoded data removed]",
      "text/plain": [
       "<matplotlib.figure.Figure at 0x7fb031adc3d0>"
      ]
     },
     "metadata": {},
     "output_type": "display_data"
    },
    {
     "name": "stdout",
     "output_type": "stream",
     "text": [
      "Number of IGH chains: 9327\n"
     ]
    },
    {
     "data": {
      "image/png": "[encoded data removed]",
      "text/plain": [
       "<matplotlib.figure.Figure at 0x7fb031a18190>"
      ]
     },
     "metadata": {},
     "output_type": "display_data"
    }
   ],
   "source": [
    "for chain in ['Multi', 'TRB', 'IGH']:\n",
    "    show_len_distr(chain)"
   ]
  },
  {
   "cell_type": "markdown",
   "metadata": {},
   "source": [
    "## 1.2. Multi chains have less UMIs than other contigs"
   ]
  },
  {
   "cell_type": "code",
   "execution_count": 13,
   "metadata": {},
   "outputs": [
    {
     "name": "stdout",
     "output_type": "stream",
     "text": [
      "Multi\n"
     ]
    },
    {
     "data": {
      "image/png": "[encoded data removed]",
      "text/plain": [
       "<matplotlib.figure.Figure at 0x7fb031955ad0>"
      ]
     },
     "metadata": {},
     "output_type": "display_data"
    }
   ],
   "source": [
    "print(\"Multi\")\n",
    "multi_chains = filtered_contigs_annotation.loc[filtered_contigs_annotation['chain'] == 'Multi']\n",
    "plt.hist(multi_chains['umis'], bins=range(N_UMIS, 50), range=(N_UMIS, 50))\n",
    "plt.show()"
   ]
  },
  {
   "cell_type": "code",
   "execution_count": 14,
   "metadata": {},
   "outputs": [
    {
     "name": "stdout",
     "output_type": "stream",
     "text": [
      "Not multi\n"
     ]
    },
    {
     "data": {
      "image/png": "[encoded data removed]",
      "text/plain": [
       "<matplotlib.figure.Figure at 0x7fb029f9b4d0>"
      ]
     },
     "metadata": {},
     "output_type": "display_data"
    }
   ],
   "source": [
    "print(\"Not multi\")\n",
    "not_multi_chains = filtered_contigs_annotation.loc[filtered_contigs_annotation['chain'] != 'Multi']\n",
    "plt.hist(not_multi_chains['umis'], bins=range(N_UMIS, 150), range=(N_UMIS, 150))\n",
    "plt.show()"
   ]
  },
  {
   "cell_type": "markdown",
   "metadata": {},
   "source": [
    "## 1.3. Multi chains: TCR gene + BCR gene"
   ]
  },
  {
   "cell_type": "markdown",
   "metadata": {},
   "source": [
    "Some multi chains looks like (v_gene: TR., j_gene or c_gene: IG.)"
   ]
  },
  {
   "cell_type": "code",
   "execution_count": 15,
   "metadata": {
    "scrolled": false
   },
   "outputs": [
    {
     "data": {
      "text/html": [
       "<div>\n",
       "<table border=\"1\" class=\"dataframe\">\n",
       "  <thead>\n",
       "    <tr style=\"text-align: right;\">\n",
       "      <th></th>\n",
       "      <th>Unnamed: 0</th>\n",
       "      <th>barcode</th>\n",
       "      <th>is_cell</th>\n",
       "      <th>high_confidence</th>\n",
       "      <th>length</th>\n",
       "      <th>chain</th>\n",
       "      <th>v_gene</th>\n",
       "      <th>d_gene</th>\n",
       "      <th>j_gene</th>\n",
       "      <th>c_gene</th>\n",
       "      <th>full_length</th>\n",
       "      <th>productive</th>\n",
       "      <th>cdr3</th>\n",
       "      <th>cdr3_nt</th>\n",
       "      <th>reads</th>\n",
       "      <th>umis</th>\n",
       "      <th>raw_clonotype_id</th>\n",
       "      <th>raw_consensus_id</th>\n",
       "    </tr>\n",
       "    <tr>\n",
       "      <th>contig_id</th>\n",
       "      <th></th>\n",
       "      <th></th>\n",
       "      <th></th>\n",
       "      <th></th>\n",
       "      <th></th>\n",
       "      <th></th>\n",
       "      <th></th>\n",
       "      <th></th>\n",
       "      <th></th>\n",
       "      <th></th>\n",
       "      <th></th>\n",
       "      <th></th>\n",
       "      <th></th>\n",
       "      <th></th>\n",
       "      <th></th>\n",
       "      <th></th>\n",
       "      <th></th>\n",
       "      <th></th>\n",
       "    </tr>\n",
       "  </thead>\n",
       "  <tbody>\n",
       "    <tr>\n",
       "      <th>AAACCTGTCGGTTCGG-1_contig_3</th>\n",
       "      <td>59</td>\n",
       "      <td>AAACCTGTCGGTTCGG-1</td>\n",
       "      <td>True</td>\n",
       "      <td>True</td>\n",
       "      <td>531</td>\n",
       "      <td>Multi</td>\n",
       "      <td>TRBV7-9</td>\n",
       "      <td>None</td>\n",
       "      <td>None</td>\n",
       "      <td>IGKC</td>\n",
       "      <td>False</td>\n",
       "      <td>None</td>\n",
       "      <td>None</td>\n",
       "      <td>None</td>\n",
       "      <td>2378</td>\n",
       "      <td>9</td>\n",
       "      <td>clonotype126</td>\n",
       "      <td>None</td>\n",
       "    </tr>\n",
       "    <tr>\n",
       "      <th>AAACCTGTCTGGCGAC-1_contig_14</th>\n",
       "      <td>63</td>\n",
       "      <td>AAACCTGTCTGGCGAC-1</td>\n",
       "      <td>True</td>\n",
       "      <td>True</td>\n",
       "      <td>675</td>\n",
       "      <td>Multi</td>\n",
       "      <td>TRBV11-1</td>\n",
       "      <td>None</td>\n",
       "      <td>TRAJ15</td>\n",
       "      <td>IGLC1</td>\n",
       "      <td>False</td>\n",
       "      <td>None</td>\n",
       "      <td>None</td>\n",
       "      <td>None</td>\n",
       "      <td>809</td>\n",
       "      <td>6</td>\n",
       "      <td>clonotype127</td>\n",
       "      <td>None</td>\n",
       "    </tr>\n",
       "    <tr>\n",
       "      <th>AAACGGGCAATGCCAT-1_contig_8</th>\n",
       "      <td>88</td>\n",
       "      <td>AAACGGGCAATGCCAT-1</td>\n",
       "      <td>True</td>\n",
       "      <td>True</td>\n",
       "      <td>884</td>\n",
       "      <td>Multi</td>\n",
       "      <td>TRBV6-7</td>\n",
       "      <td>None</td>\n",
       "      <td>None</td>\n",
       "      <td>IGHM</td>\n",
       "      <td>False</td>\n",
       "      <td>None</td>\n",
       "      <td>None</td>\n",
       "      <td>None</td>\n",
       "      <td>443</td>\n",
       "      <td>6</td>\n",
       "      <td>clonotype134</td>\n",
       "      <td>None</td>\n",
       "    </tr>\n",
       "    <tr>\n",
       "      <th>AAACGGGCACCAGATT-1_contig_3</th>\n",
       "      <td>91</td>\n",
       "      <td>AAACGGGCACCAGATT-1</td>\n",
       "      <td>True</td>\n",
       "      <td>True</td>\n",
       "      <td>910</td>\n",
       "      <td>Multi</td>\n",
       "      <td>IGLV3-32</td>\n",
       "      <td>None</td>\n",
       "      <td>None</td>\n",
       "      <td>IGHG2</td>\n",
       "      <td>False</td>\n",
       "      <td>None</td>\n",
       "      <td>None</td>\n",
       "      <td>None</td>\n",
       "      <td>2432</td>\n",
       "      <td>9</td>\n",
       "      <td>clonotype135</td>\n",
       "      <td>None</td>\n",
       "    </tr>\n",
       "    <tr>\n",
       "      <th>AAACGGGCAGTGACAG-1_contig_1</th>\n",
       "      <td>98</td>\n",
       "      <td>AAACGGGCAGTGACAG-1</td>\n",
       "      <td>True</td>\n",
       "      <td>True</td>\n",
       "      <td>1024</td>\n",
       "      <td>Multi</td>\n",
       "      <td>IGLV10-54</td>\n",
       "      <td>None</td>\n",
       "      <td>IGKJ1</td>\n",
       "      <td>IGKC</td>\n",
       "      <td>False</td>\n",
       "      <td>None</td>\n",
       "      <td>None</td>\n",
       "      <td>None</td>\n",
       "      <td>2689</td>\n",
       "      <td>13</td>\n",
       "      <td>clonotype137</td>\n",
       "      <td>None</td>\n",
       "    </tr>\n",
       "  </tbody>\n",
       "</table>\n",
       "</div>"
      ],
      "text/plain": [
       "                              Unnamed: 0             barcode is_cell  \\\n",
       "contig_id                                                              \n",
       "AAACCTGTCGGTTCGG-1_contig_3           59  AAACCTGTCGGTTCGG-1    True   \n",
       "AAACCTGTCTGGCGAC-1_contig_14          63  AAACCTGTCTGGCGAC-1    True   \n",
       "AAACGGGCAATGCCAT-1_contig_8           88  AAACGGGCAATGCCAT-1    True   \n",
       "AAACGGGCACCAGATT-1_contig_3           91  AAACGGGCACCAGATT-1    True   \n",
       "AAACGGGCAGTGACAG-1_contig_1           98  AAACGGGCAGTGACAG-1    True   \n",
       "\n",
       "                             high_confidence  length  chain     v_gene d_gene  \\\n",
       "contig_id                                                                       \n",
       "AAACCTGTCGGTTCGG-1_contig_3             True     531  Multi    TRBV7-9   None   \n",
       "AAACCTGTCTGGCGAC-1_contig_14            True     675  Multi   TRBV11-1   None   \n",
       "AAACGGGCAATGCCAT-1_contig_8             True     884  Multi    TRBV6-7   None   \n",
       "AAACGGGCACCAGATT-1_contig_3             True     910  Multi   IGLV3-32   None   \n",
       "AAACGGGCAGTGACAG-1_contig_1             True    1024  Multi  IGLV10-54   None   \n",
       "\n",
       "                              j_gene c_gene full_length productive  cdr3  \\\n",
       "contig_id                                                                  \n",
       "AAACCTGTCGGTTCGG-1_contig_3     None   IGKC       False       None  None   \n",
       "AAACCTGTCTGGCGAC-1_contig_14  TRAJ15  IGLC1       False       None  None   \n",
       "AAACGGGCAATGCCAT-1_contig_8     None   IGHM       False       None  None   \n",
       "AAACGGGCACCAGATT-1_contig_3     None  IGHG2       False       None  None   \n",
       "AAACGGGCAGTGACAG-1_contig_1    IGKJ1   IGKC       False       None  None   \n",
       "\n",
       "                             cdr3_nt  reads  umis raw_clonotype_id  \\\n",
       "contig_id                                                            \n",
       "AAACCTGTCGGTTCGG-1_contig_3     None   2378     9     clonotype126   \n",
       "AAACCTGTCTGGCGAC-1_contig_14    None    809     6     clonotype127   \n",
       "AAACGGGCAATGCCAT-1_contig_8     None    443     6     clonotype134   \n",
       "AAACGGGCACCAGATT-1_contig_3     None   2432     9     clonotype135   \n",
       "AAACGGGCAGTGACAG-1_contig_1     None   2689    13     clonotype137   \n",
       "\n",
       "                             raw_consensus_id  \n",
       "contig_id                                      \n",
       "AAACCTGTCGGTTCGG-1_contig_3              None  \n",
       "AAACCTGTCTGGCGAC-1_contig_14             None  \n",
       "AAACGGGCAATGCCAT-1_contig_8              None  \n",
       "AAACGGGCACCAGATT-1_contig_3              None  \n",
       "AAACGGGCAGTGACAG-1_contig_1              None  "
      ]
     },
     "execution_count": 15,
     "metadata": {},
     "output_type": "execute_result"
    }
   ],
   "source": [
    "multi_chains.head()"
   ]
  },
  {
   "cell_type": "code",
   "execution_count": 16,
   "metadata": {},
   "outputs": [],
   "source": [
    "def all_chains_are_from_one_cell_receptor(row):\n",
    "    chain_types = [row['{}_gene'.format(gene_type)][0:2] for gene_type in ['v', 'd', 'j', 'c'] if row['{}_gene'.format(gene_type)] != 'None']\n",
    "    return chain_types.count(chain_types[0]) != len(chain_types)\n",
    "\n",
    "def get_tcr_bcr_chains(multi_chains):\n",
    "    return multi_chains[multi_chains.apply(lambda row: all_chains_are_from_one_cell_receptor(row), axis=1)]"
   ]
  },
  {
   "cell_type": "code",
   "execution_count": 17,
   "metadata": {},
   "outputs": [],
   "source": [
    "tcr_bcr_chains = get_tcr_bcr_chains(multi_chains)"
   ]
  },
  {
   "cell_type": "code",
   "execution_count": 18,
   "metadata": {},
   "outputs": [
    {
     "name": "stdout",
     "output_type": "stream",
     "text": [
      "Number of mixed contigs: 621\n",
      "\n",
      "Their UMIs distribution (# UMIs : N contigs):\n",
      "Counter({6: 233, 7: 131, 8: 81, 9: 55, 10: 29, 11: 21, 12: 19, 13: 10, 14: 8, 15: 7, 18: 4, 16: 2, 19: 2, 20: 2, 22: 2, 23: 2, 27: 2, 28: 2, 17: 1, 21: 1, 25: 1, 29: 1, 30: 1, 33: 1, 36: 1, 37: 1, 65: 1})\n"
     ]
    }
   ],
   "source": [
    "print('Number of mixed contigs: {}\\n'.format(len(tcr_bcr_chains)))\n",
    "print('Their UMIs distribution (# UMIs : N contigs):')\n",
    "print(Counter(tcr_bcr_chains['umis']))"
   ]
  },
  {
   "cell_type": "markdown",
   "metadata": {},
   "source": [
    "Examples of tcr_bcr chains with many UMIs:"
   ]
  },
  {
   "cell_type": "code",
   "execution_count": 19,
   "metadata": {},
   "outputs": [
    {
     "data": {
      "text/html": [
       "<div>\n",
       "<table border=\"1\" class=\"dataframe\">\n",
       "  <thead>\n",
       "    <tr style=\"text-align: right;\">\n",
       "      <th></th>\n",
       "      <th>Unnamed: 0</th>\n",
       "      <th>barcode</th>\n",
       "      <th>is_cell</th>\n",
       "      <th>high_confidence</th>\n",
       "      <th>length</th>\n",
       "      <th>chain</th>\n",
       "      <th>v_gene</th>\n",
       "      <th>d_gene</th>\n",
       "      <th>j_gene</th>\n",
       "      <th>c_gene</th>\n",
       "      <th>full_length</th>\n",
       "      <th>productive</th>\n",
       "      <th>cdr3</th>\n",
       "      <th>cdr3_nt</th>\n",
       "      <th>reads</th>\n",
       "      <th>umis</th>\n",
       "      <th>raw_clonotype_id</th>\n",
       "      <th>raw_consensus_id</th>\n",
       "    </tr>\n",
       "    <tr>\n",
       "      <th>contig_id</th>\n",
       "      <th></th>\n",
       "      <th></th>\n",
       "      <th></th>\n",
       "      <th></th>\n",
       "      <th></th>\n",
       "      <th></th>\n",
       "      <th></th>\n",
       "      <th></th>\n",
       "      <th></th>\n",
       "      <th></th>\n",
       "      <th></th>\n",
       "      <th></th>\n",
       "      <th></th>\n",
       "      <th></th>\n",
       "      <th></th>\n",
       "      <th></th>\n",
       "      <th></th>\n",
       "      <th></th>\n",
       "    </tr>\n",
       "  </thead>\n",
       "  <tbody>\n",
       "    <tr>\n",
       "      <th>GAACATCTCGGCGGTT-1_contig_4</th>\n",
       "      <td>18264</td>\n",
       "      <td>GAACATCTCGGCGGTT-1</td>\n",
       "      <td>True</td>\n",
       "      <td>True</td>\n",
       "      <td>459</td>\n",
       "      <td>Multi</td>\n",
       "      <td>IGKV2D-28</td>\n",
       "      <td>None</td>\n",
       "      <td>TRAJ22</td>\n",
       "      <td>IGKC</td>\n",
       "      <td>False</td>\n",
       "      <td>None</td>\n",
       "      <td>None</td>\n",
       "      <td>None</td>\n",
       "      <td>20337</td>\n",
       "      <td>65</td>\n",
       "      <td>clonotype27</td>\n",
       "      <td>None</td>\n",
       "    </tr>\n",
       "    <tr>\n",
       "      <th>TCACAAGTCTTCATGT-1_contig_1</th>\n",
       "      <td>27813</td>\n",
       "      <td>TCACAAGTCTTCATGT-1</td>\n",
       "      <td>True</td>\n",
       "      <td>True</td>\n",
       "      <td>664</td>\n",
       "      <td>Multi</td>\n",
       "      <td>TRBV5-3</td>\n",
       "      <td>None</td>\n",
       "      <td>IGHJ4</td>\n",
       "      <td>IGHA1</td>\n",
       "      <td>False</td>\n",
       "      <td>None</td>\n",
       "      <td>None</td>\n",
       "      <td>None</td>\n",
       "      <td>9348</td>\n",
       "      <td>37</td>\n",
       "      <td>clonotype7757</td>\n",
       "      <td>None</td>\n",
       "    </tr>\n",
       "    <tr>\n",
       "      <th>ACTGATGTCAAGCCTA-1_contig_4</th>\n",
       "      <td>3654</td>\n",
       "      <td>ACTGATGTCAAGCCTA-1</td>\n",
       "      <td>True</td>\n",
       "      <td>True</td>\n",
       "      <td>925</td>\n",
       "      <td>Multi</td>\n",
       "      <td>IGKV1-8</td>\n",
       "      <td>None</td>\n",
       "      <td>TRAJ19</td>\n",
       "      <td>IGKC</td>\n",
       "      <td>False</td>\n",
       "      <td>None</td>\n",
       "      <td>None</td>\n",
       "      <td>None</td>\n",
       "      <td>7102</td>\n",
       "      <td>36</td>\n",
       "      <td>clonotype1104</td>\n",
       "      <td>None</td>\n",
       "    </tr>\n",
       "    <tr>\n",
       "      <th>CAGTCCTAGGAATGGA-1_contig_3</th>\n",
       "      <td>9785</td>\n",
       "      <td>CAGTCCTAGGAATGGA-1</td>\n",
       "      <td>True</td>\n",
       "      <td>True</td>\n",
       "      <td>441</td>\n",
       "      <td>Multi</td>\n",
       "      <td>IGLV2-14</td>\n",
       "      <td>None</td>\n",
       "      <td>TRAJ15</td>\n",
       "      <td>IGLC1</td>\n",
       "      <td>True</td>\n",
       "      <td>None</td>\n",
       "      <td>None</td>\n",
       "      <td>None</td>\n",
       "      <td>5543</td>\n",
       "      <td>33</td>\n",
       "      <td>clonotype2786</td>\n",
       "      <td>None</td>\n",
       "    </tr>\n",
       "    <tr>\n",
       "      <th>GACTACAGTAAGGATT-1_contig_3</th>\n",
       "      <td>19215</td>\n",
       "      <td>GACTACAGTAAGGATT-1</td>\n",
       "      <td>True</td>\n",
       "      <td>True</td>\n",
       "      <td>798</td>\n",
       "      <td>Multi</td>\n",
       "      <td>TRGV10</td>\n",
       "      <td>None</td>\n",
       "      <td>IGKJ3</td>\n",
       "      <td>IGKC</td>\n",
       "      <td>False</td>\n",
       "      <td>None</td>\n",
       "      <td>None</td>\n",
       "      <td>None</td>\n",
       "      <td>5195</td>\n",
       "      <td>30</td>\n",
       "      <td>clonotype5389</td>\n",
       "      <td>None</td>\n",
       "    </tr>\n",
       "  </tbody>\n",
       "</table>\n",
       "</div>"
      ],
      "text/plain": [
       "                             Unnamed: 0             barcode is_cell  \\\n",
       "contig_id                                                             \n",
       "GAACATCTCGGCGGTT-1_contig_4       18264  GAACATCTCGGCGGTT-1    True   \n",
       "TCACAAGTCTTCATGT-1_contig_1       27813  TCACAAGTCTTCATGT-1    True   \n",
       "ACTGATGTCAAGCCTA-1_contig_4        3654  ACTGATGTCAAGCCTA-1    True   \n",
       "CAGTCCTAGGAATGGA-1_contig_3        9785  CAGTCCTAGGAATGGA-1    True   \n",
       "GACTACAGTAAGGATT-1_contig_3       19215  GACTACAGTAAGGATT-1    True   \n",
       "\n",
       "                            high_confidence  length  chain     v_gene d_gene  \\\n",
       "contig_id                                                                      \n",
       "GAACATCTCGGCGGTT-1_contig_4            True     459  Multi  IGKV2D-28   None   \n",
       "TCACAAGTCTTCATGT-1_contig_1            True     664  Multi    TRBV5-3   None   \n",
       "ACTGATGTCAAGCCTA-1_contig_4            True     925  Multi    IGKV1-8   None   \n",
       "CAGTCCTAGGAATGGA-1_contig_3            True     441  Multi   IGLV2-14   None   \n",
       "GACTACAGTAAGGATT-1_contig_3            True     798  Multi     TRGV10   None   \n",
       "\n",
       "                             j_gene c_gene full_length productive  cdr3  \\\n",
       "contig_id                                                                 \n",
       "GAACATCTCGGCGGTT-1_contig_4  TRAJ22   IGKC       False       None  None   \n",
       "TCACAAGTCTTCATGT-1_contig_1   IGHJ4  IGHA1       False       None  None   \n",
       "ACTGATGTCAAGCCTA-1_contig_4  TRAJ19   IGKC       False       None  None   \n",
       "CAGTCCTAGGAATGGA-1_contig_3  TRAJ15  IGLC1        True       None  None   \n",
       "GACTACAGTAAGGATT-1_contig_3   IGKJ3   IGKC       False       None  None   \n",
       "\n",
       "                            cdr3_nt  reads  umis raw_clonotype_id  \\\n",
       "contig_id                                                           \n",
       "GAACATCTCGGCGGTT-1_contig_4    None  20337    65      clonotype27   \n",
       "TCACAAGTCTTCATGT-1_contig_1    None   9348    37    clonotype7757   \n",
       "ACTGATGTCAAGCCTA-1_contig_4    None   7102    36    clonotype1104   \n",
       "CAGTCCTAGGAATGGA-1_contig_3    None   5543    33    clonotype2786   \n",
       "GACTACAGTAAGGATT-1_contig_3    None   5195    30    clonotype5389   \n",
       "\n",
       "                            raw_consensus_id  \n",
       "contig_id                                     \n",
       "GAACATCTCGGCGGTT-1_contig_4             None  \n",
       "TCACAAGTCTTCATGT-1_contig_1             None  \n",
       "ACTGATGTCAAGCCTA-1_contig_4             None  \n",
       "CAGTCCTAGGAATGGA-1_contig_3             None  \n",
       "GACTACAGTAAGGATT-1_contig_3             None  "
      ]
     },
     "execution_count": 19,
     "metadata": {},
     "output_type": "execute_result"
    }
   ],
   "source": [
    "tcr_bcr_chains.sort_values(by = 'umis', ascending=False).head()"
   ]
  },
  {
   "cell_type": "markdown",
   "metadata": {},
   "source": [
    "# 2. Process 10x annotation: other strange things"
   ]
  },
  {
   "cell_type": "markdown",
   "metadata": {},
   "source": [
    "## 2.1. Pseudogenes ??"
   ]
  },
  {
   "cell_type": "code",
   "execution_count": 20,
   "metadata": {},
   "outputs": [],
   "source": [
    "def get_pseudogenes(filtered_contigs_annotation):\n",
    "    for gene_type in ['v', 'd', 'j', 'c']:\n",
    "        genes = Counter(filtered_contigs_annotation['{}_gene'.format(gene_type)])\n",
    "        for gene in genes:\n",
    "            if gene[0:2] == \"IG\" and 'OR' in gene:\n",
    "                print('{}: {}'.format(gene, genes[gene]))\n",
    "        print(\"\\n\")"
   ]
  },
  {
   "cell_type": "code",
   "execution_count": 21,
   "metadata": {},
   "outputs": [
    {
     "name": "stdout",
     "output_type": "stream",
     "text": [
      "IGHV1OR21-1: 2\n",
      "IGHV3OR16-12: 4\n",
      "IGHV3OR16-10: 1\n",
      "IGHV3OR16-9: 8\n",
      "IGHV3OR16-8: 2\n",
      "IGHV1OR15-1: 1\n",
      "IGHV1OR15-9: 117\n",
      "IGHV4OR15-8: 1\n",
      "\n",
      "\n",
      "IGHD1OR15-1A: 61\n",
      "IGHD5OR15-5B: 28\n",
      "IGHD3OR15-3A: 44\n",
      "IGHD4OR15-4B: 42\n",
      "IGHD2OR15-2B: 69\n",
      "\n",
      "\n",
      "\n",
      "\n",
      "\n",
      "\n"
     ]
    }
   ],
   "source": [
    "get_pseudogenes(filtered_contigs_annotation)"
   ]
  },
  {
   "cell_type": "markdown",
   "metadata": {},
   "source": [
    "## 2.2. .... "
   ]
  },
  {
   "cell_type": "code",
   "execution_count": null,
   "metadata": {},
   "outputs": [],
   "source": []
  },
  {
   "cell_type": "markdown",
   "metadata": {},
   "source": [
    "# 3. VJfinder vs 10x annotaion "
   ]
  },
  {
   "cell_type": "markdown",
   "metadata": {},
   "source": [
    "From VJF log:\n",
    "\n",
    "23.0826% of aligned reads have isotype IGL <br>\n",
    "32.7312% of aligned reads have isotype IGK <br>\n",
    "44.1862% of aligned reads have isotype IGH\n",
    "\n",
    "20262 reads were aligned; 1834 reads were filtered out\n"
   ]
  },
  {
   "cell_type": "code",
   "execution_count": 22,
   "metadata": {},
   "outputs": [],
   "source": [
    "vjf_annotation_fname = PATH + '/{}/vjf_result/alignment_info.csv'.format(dataset_name)"
   ]
  },
  {
   "cell_type": "code",
   "execution_count": 23,
   "metadata": {},
   "outputs": [],
   "source": [
    "vjf_annotation = pd.read_csv(vjf_annotation_fname, sep='\\t', index_col=0)"
   ]
  },
  {
   "cell_type": "code",
   "execution_count": 24,
   "metadata": {},
   "outputs": [
    {
     "data": {
      "text/html": [
       "<div>\n",
       "<table border=\"1\" class=\"dataframe\">\n",
       "  <thead>\n",
       "    <tr style=\"text-align: right;\">\n",
       "      <th></th>\n",
       "      <th>Chain_type</th>\n",
       "      <th>V_hit</th>\n",
       "      <th>V_start_pos</th>\n",
       "      <th>V_end_pos</th>\n",
       "      <th>V_score</th>\n",
       "      <th>J_hit</th>\n",
       "      <th>J_start_pos</th>\n",
       "      <th>J_end_pos</th>\n",
       "      <th>J_score</th>\n",
       "    </tr>\n",
       "    <tr>\n",
       "      <th>Read_name</th>\n",
       "      <th></th>\n",
       "      <th></th>\n",
       "      <th></th>\n",
       "      <th></th>\n",
       "      <th></th>\n",
       "      <th></th>\n",
       "      <th></th>\n",
       "      <th></th>\n",
       "      <th></th>\n",
       "    </tr>\n",
       "  </thead>\n",
       "  <tbody>\n",
       "    <tr>\n",
       "      <th>AAAGATGTCCGAATGT-1_contig_2</th>\n",
       "      <td>IGH</td>\n",
       "      <td>IGHV3-49*03</td>\n",
       "      <td>1</td>\n",
       "      <td>300</td>\n",
       "      <td>0.993377</td>\n",
       "      <td>IGHJ3*02</td>\n",
       "      <td>325</td>\n",
       "      <td>373</td>\n",
       "      <td>0.980000</td>\n",
       "    </tr>\n",
       "    <tr>\n",
       "      <th>AAAGATGTCCGAATGT-1_contig_5</th>\n",
       "      <td>IGK</td>\n",
       "      <td>IGKV1-33*01</td>\n",
       "      <td>1</td>\n",
       "      <td>283</td>\n",
       "      <td>0.986063</td>\n",
       "      <td>IGKJ5*01</td>\n",
       "      <td>285</td>\n",
       "      <td>322</td>\n",
       "      <td>1.000000</td>\n",
       "    </tr>\n",
       "    <tr>\n",
       "      <th>AAGCCGCCAGGGTATG-1_contig_1</th>\n",
       "      <td>IGK</td>\n",
       "      <td>IGKV4-1*01</td>\n",
       "      <td>1</td>\n",
       "      <td>293</td>\n",
       "      <td>0.872131</td>\n",
       "      <td>IGKJ2*03</td>\n",
       "      <td>303</td>\n",
       "      <td>340</td>\n",
       "      <td>0.974359</td>\n",
       "    </tr>\n",
       "    <tr>\n",
       "      <th>AAGCCGCCAGGGTATG-1_contig_2</th>\n",
       "      <td>IGH</td>\n",
       "      <td>IGHV3-33*06</td>\n",
       "      <td>1</td>\n",
       "      <td>296</td>\n",
       "      <td>0.922297</td>\n",
       "      <td>IGHJ4*02</td>\n",
       "      <td>308</td>\n",
       "      <td>352</td>\n",
       "      <td>0.916667</td>\n",
       "    </tr>\n",
       "    <tr>\n",
       "      <th>ACGAGCCCAATGTAAG-1_contig_1</th>\n",
       "      <td>IGK</td>\n",
       "      <td>IGKV1-17*03</td>\n",
       "      <td>1</td>\n",
       "      <td>284</td>\n",
       "      <td>0.989547</td>\n",
       "      <td>IGKJ1*01</td>\n",
       "      <td>286</td>\n",
       "      <td>322</td>\n",
       "      <td>0.973684</td>\n",
       "    </tr>\n",
       "  </tbody>\n",
       "</table>\n",
       "</div>"
      ],
      "text/plain": [
       "                            Chain_type        V_hit  V_start_pos  V_end_pos  \\\n",
       "Read_name                                                                     \n",
       "AAAGATGTCCGAATGT-1_contig_2        IGH  IGHV3-49*03            1        300   \n",
       "AAAGATGTCCGAATGT-1_contig_5        IGK  IGKV1-33*01            1        283   \n",
       "AAGCCGCCAGGGTATG-1_contig_1        IGK   IGKV4-1*01            1        293   \n",
       "AAGCCGCCAGGGTATG-1_contig_2        IGH  IGHV3-33*06            1        296   \n",
       "ACGAGCCCAATGTAAG-1_contig_1        IGK  IGKV1-17*03            1        284   \n",
       "\n",
       "                              V_score     J_hit  J_start_pos  J_end_pos  \\\n",
       "Read_name                                                                 \n",
       "AAAGATGTCCGAATGT-1_contig_2  0.993377  IGHJ3*02          325        373   \n",
       "AAAGATGTCCGAATGT-1_contig_5  0.986063  IGKJ5*01          285        322   \n",
       "AAGCCGCCAGGGTATG-1_contig_1  0.872131  IGKJ2*03          303        340   \n",
       "AAGCCGCCAGGGTATG-1_contig_2  0.922297  IGHJ4*02          308        352   \n",
       "ACGAGCCCAATGTAAG-1_contig_1  0.989547  IGKJ1*01          286        322   \n",
       "\n",
       "                              J_score  \n",
       "Read_name                              \n",
       "AAAGATGTCCGAATGT-1_contig_2  0.980000  \n",
       "AAAGATGTCCGAATGT-1_contig_5  1.000000  \n",
       "AAGCCGCCAGGGTATG-1_contig_1  0.974359  \n",
       "AAGCCGCCAGGGTATG-1_contig_2  0.916667  \n",
       "ACGAGCCCAATGTAAG-1_contig_1  0.973684  "
      ]
     },
     "execution_count": 24,
     "metadata": {},
     "output_type": "execute_result"
    }
   ],
   "source": [
    "vjf_annotation.head()"
   ]
  },
  {
   "cell_type": "markdown",
   "metadata": {},
   "source": [
    "## 3.1 VJfinder: V/J-score distribution"
   ]
  },
  {
   "cell_type": "code",
   "execution_count": 25,
   "metadata": {},
   "outputs": [
    {
     "data": {
      "image/png": "[encoded data removed]",
      "text/plain": [
       "<matplotlib.figure.Figure at 0x7faf86dd3c50>"
      ]
     },
     "metadata": {},
     "output_type": "display_data"
    }
   ],
   "source": [
    "import seaborn as sns\n",
    "sns.jointplot(x=vjf_annotation['V_score'], y=vjf_annotation['J_score'], s=1)\n",
    "plt.show()"
   ]
  },
  {
   "cell_type": "markdown",
   "metadata": {},
   "source": [
    "## 3.2. VJfinder: contigs with a perfect score "
   ]
  },
  {
   "cell_type": "code",
   "execution_count": 26,
   "metadata": {},
   "outputs": [],
   "source": [
    "scores = {'V_score == 1' : len(vjf_annotation.loc[vjf_annotation['V_score'] == 1]), \n",
    "'J_score == 1' : len(vjf_annotation.loc[vjf_annotation['J_score'] == 1]),\n",
    "'V_score and J_score == 1' : len(vjf_annotation[(vjf_annotation['V_score']==1) & (vjf_annotation['J_score']==1)])}"
   ]
  },
  {
   "cell_type": "code",
   "execution_count": 27,
   "metadata": {},
   "outputs": [
    {
     "name": "stdout",
     "output_type": "stream",
     "text": [
      "Contigs with a perfect alignment:\n",
      "\n",
      "                          # contigs  % contigs\n",
      "J_score == 1                   2206  10.887375\n",
      "V_score == 1                   3410  16.829533\n",
      "V_score and J_score == 1        382   1.885303\n"
     ]
    }
   ],
   "source": [
    "print(\"Contigs with a perfect alignment:\\n\")\n",
    "\n",
    "df = pd.DataFrame.from_dict(scores, orient='index')\n",
    "df.columns = ['# contigs']\n",
    "df['% contigs'] = df['# contigs'] / len(vjf_annotation) * 100\n",
    "print(df)"
   ]
  },
  {
   "cell_type": "markdown",
   "metadata": {},
   "source": [
    "## 3.3. VJfinder: chain types "
   ]
  },
  {
   "cell_type": "markdown",
   "metadata": {},
   "source": [
    "Consider all contigs of specific type from VJF annotation and look what does 10x annotation think about them"
   ]
  },
  {
   "cell_type": "code",
   "execution_count": 28,
   "metadata": {},
   "outputs": [],
   "source": [
    "def compare_chains(vjf_annotation, filtered_contigs_annotation, chain):\n",
    "    specific_chain = vjf_annotation.loc[vjf_annotation['Chain_type'] == chain]\n",
    "    contigs_id = set(specific_chain.index)\n",
    "    annotation_10x = filtered_contigs_annotation.loc[filtered_contigs_annotation.index.isin(contigs_id)]\n",
    "    return str(dict(Counter(annotation_10x['chain'])))"
   ]
  },
  {
   "cell_type": "code",
   "execution_count": 29,
   "metadata": {},
   "outputs": [],
   "source": [
    "chains = {chain : [len(vjf_annotation.loc[vjf_annotation['Chain_type'] == chain]), compare_chains(vjf_annotation, filtered_contigs_annotation, chain)] for chain in ['IGH', 'IGK', 'IGL']}"
   ]
  },
  {
   "cell_type": "code",
   "execution_count": 30,
   "metadata": {},
   "outputs": [
    {
     "name": "stdout",
     "output_type": "stream",
     "text": [
      "     # VJF                       # 10x\n",
      "IGL   4677  {'Multi': 97, 'IGL': 4580}\n",
      "IGK   6632  {'Multi': 14, 'IGK': 6618}\n",
      "IGH   8953  {'Multi': 21, 'IGH': 8932}\n"
     ]
    }
   ],
   "source": [
    "df = pd.DataFrame.from_dict(chains, orient='index')\n",
    "df.columns = ['# VJF', '# 10x']\n",
    "print(df)"
   ]
  },
  {
   "cell_type": "markdown",
   "metadata": {},
   "source": [
    "## 3.4. VJfinder: V and J hits "
   ]
  },
  {
   "cell_type": "code",
   "execution_count": 56,
   "metadata": {
    "scrolled": true
   },
   "outputs": [
    {
     "data": {
      "text/html": [
       "<div>\n",
       "<table border=\"1\" class=\"dataframe\">\n",
       "  <thead>\n",
       "    <tr style=\"text-align: right;\">\n",
       "      <th></th>\n",
       "      <th>Chain_type</th>\n",
       "      <th>V_hit</th>\n",
       "      <th>V_start_pos</th>\n",
       "      <th>V_end_pos</th>\n",
       "      <th>V_score</th>\n",
       "      <th>J_hit</th>\n",
       "      <th>J_start_pos</th>\n",
       "      <th>J_end_pos</th>\n",
       "      <th>J_score</th>\n",
       "      <th>V_hit_main</th>\n",
       "      <th>J_hit_main</th>\n",
       "    </tr>\n",
       "    <tr>\n",
       "      <th>Read_name</th>\n",
       "      <th></th>\n",
       "      <th></th>\n",
       "      <th></th>\n",
       "      <th></th>\n",
       "      <th></th>\n",
       "      <th></th>\n",
       "      <th></th>\n",
       "      <th></th>\n",
       "      <th></th>\n",
       "      <th></th>\n",
       "      <th></th>\n",
       "    </tr>\n",
       "  </thead>\n",
       "  <tbody>\n",
       "    <tr>\n",
       "      <th>AAAGATGTCCGAATGT-1_contig_2</th>\n",
       "      <td>IGH</td>\n",
       "      <td>IGHV3-49*03</td>\n",
       "      <td>1</td>\n",
       "      <td>300</td>\n",
       "      <td>0.993377</td>\n",
       "      <td>IGHJ3*02</td>\n",
       "      <td>325</td>\n",
       "      <td>373</td>\n",
       "      <td>0.980000</td>\n",
       "      <td>IGHV3-49</td>\n",
       "      <td>IGHJ3</td>\n",
       "    </tr>\n",
       "    <tr>\n",
       "      <th>AAAGATGTCCGAATGT-1_contig_5</th>\n",
       "      <td>IGK</td>\n",
       "      <td>IGKV1-33*01</td>\n",
       "      <td>1</td>\n",
       "      <td>283</td>\n",
       "      <td>0.986063</td>\n",
       "      <td>IGKJ5*01</td>\n",
       "      <td>285</td>\n",
       "      <td>322</td>\n",
       "      <td>1.000000</td>\n",
       "      <td>IGKV1-33</td>\n",
       "      <td>IGKJ5</td>\n",
       "    </tr>\n",
       "    <tr>\n",
       "      <th>AAGCCGCCAGGGTATG-1_contig_1</th>\n",
       "      <td>IGK</td>\n",
       "      <td>IGKV4-1*01</td>\n",
       "      <td>1</td>\n",
       "      <td>293</td>\n",
       "      <td>0.872131</td>\n",
       "      <td>IGKJ2*03</td>\n",
       "      <td>303</td>\n",
       "      <td>340</td>\n",
       "      <td>0.974359</td>\n",
       "      <td>IGKV4-1</td>\n",
       "      <td>IGKJ2</td>\n",
       "    </tr>\n",
       "    <tr>\n",
       "      <th>AAGCCGCCAGGGTATG-1_contig_2</th>\n",
       "      <td>IGH</td>\n",
       "      <td>IGHV3-33*06</td>\n",
       "      <td>1</td>\n",
       "      <td>296</td>\n",
       "      <td>0.922297</td>\n",
       "      <td>IGHJ4*02</td>\n",
       "      <td>308</td>\n",
       "      <td>352</td>\n",
       "      <td>0.916667</td>\n",
       "      <td>IGHV3-33</td>\n",
       "      <td>IGHJ4</td>\n",
       "    </tr>\n",
       "    <tr>\n",
       "      <th>ACGAGCCCAATGTAAG-1_contig_1</th>\n",
       "      <td>IGK</td>\n",
       "      <td>IGKV1-17*03</td>\n",
       "      <td>1</td>\n",
       "      <td>284</td>\n",
       "      <td>0.989547</td>\n",
       "      <td>IGKJ1*01</td>\n",
       "      <td>286</td>\n",
       "      <td>322</td>\n",
       "      <td>0.973684</td>\n",
       "      <td>IGKV1-17</td>\n",
       "      <td>IGKJ1</td>\n",
       "    </tr>\n",
       "  </tbody>\n",
       "</table>\n",
       "</div>"
      ],
      "text/plain": [
       "                            Chain_type        V_hit  V_start_pos  V_end_pos  \\\n",
       "Read_name                                                                     \n",
       "AAAGATGTCCGAATGT-1_contig_2        IGH  IGHV3-49*03            1        300   \n",
       "AAAGATGTCCGAATGT-1_contig_5        IGK  IGKV1-33*01            1        283   \n",
       "AAGCCGCCAGGGTATG-1_contig_1        IGK   IGKV4-1*01            1        293   \n",
       "AAGCCGCCAGGGTATG-1_contig_2        IGH  IGHV3-33*06            1        296   \n",
       "ACGAGCCCAATGTAAG-1_contig_1        IGK  IGKV1-17*03            1        284   \n",
       "\n",
       "                              V_score     J_hit  J_start_pos  J_end_pos  \\\n",
       "Read_name                                                                 \n",
       "AAAGATGTCCGAATGT-1_contig_2  0.993377  IGHJ3*02          325        373   \n",
       "AAAGATGTCCGAATGT-1_contig_5  0.986063  IGKJ5*01          285        322   \n",
       "AAGCCGCCAGGGTATG-1_contig_1  0.872131  IGKJ2*03          303        340   \n",
       "AAGCCGCCAGGGTATG-1_contig_2  0.922297  IGHJ4*02          308        352   \n",
       "ACGAGCCCAATGTAAG-1_contig_1  0.989547  IGKJ1*01          286        322   \n",
       "\n",
       "                              J_score V_hit_main J_hit_main  \n",
       "Read_name                                                    \n",
       "AAAGATGTCCGAATGT-1_contig_2  0.980000   IGHV3-49      IGHJ3  \n",
       "AAAGATGTCCGAATGT-1_contig_5  1.000000   IGKV1-33      IGKJ5  \n",
       "AAGCCGCCAGGGTATG-1_contig_1  0.974359    IGKV4-1      IGKJ2  \n",
       "AAGCCGCCAGGGTATG-1_contig_2  0.916667   IGHV3-33      IGHJ4  \n",
       "ACGAGCCCAATGTAAG-1_contig_1  0.973684   IGKV1-17      IGKJ1  "
      ]
     },
     "execution_count": 56,
     "metadata": {},
     "output_type": "execute_result"
    }
   ],
   "source": [
    "vjf_annotation['V_hit_main'] = vjf_annotation['V_hit'].apply(lambda gene: gene.split('*')[0])\n",
    "vjf_annotation['J_hit_main'] = vjf_annotation['J_hit'].apply(lambda gene: gene.split('*')[0])\n",
    "vjf_annotation.head()    "
   ]
  },
  {
   "cell_type": "code",
   "execution_count": 32,
   "metadata": {},
   "outputs": [],
   "source": [
    "def compare_vj_hits(vjf_annotation, filtered_contigs_annotation):\n",
    "    similar_V = 0\n",
    "    similar_J = 0\n",
    "    similar_VJ = 0\n",
    "    for contig_id in list(vjf_annotation.index):\n",
    "        is_similar_V = vjf_annotation.loc[contig_id]['V_hit_main'] == filtered_contigs_annotation.loc[contig_id]['v_gene']\n",
    "        is_similar_J = vjf_annotation.loc[contig_id]['J_hit_main'] == filtered_contigs_annotation.loc[contig_id]['j_gene']\n",
    "        similar_V += is_similar_V\n",
    "        similar_J += is_similar_J\n",
    "        similar_VJ += is_similar_V and is_similar_J\n",
    "    return {'similar V': similar_V, 'similar J': similar_J, 'similar V and J': similar_VJ}"
   ]
  },
  {
   "cell_type": "code",
   "execution_count": 33,
   "metadata": {},
   "outputs": [],
   "source": [
    "vj_hits = compare_vj_hits(vjf_annotation, filtered_contigs_annotation)"
   ]
  },
  {
   "cell_type": "code",
   "execution_count": 34,
   "metadata": {},
   "outputs": [
    {
     "name": "stdout",
     "output_type": "stream",
     "text": [
      "% of similar hits annotations in VJF and 10x\n",
      "\n",
      "                 # hits     % hits\n",
      "similar J         19961  98.514461\n",
      "similar V         16046  79.192577\n",
      "similar V and J   15829  78.121607\n"
     ]
    }
   ],
   "source": [
    "print('% of similar hits annotations in VJF and 10x\\n')\n",
    "df = pd.DataFrame.from_dict(vj_hits, orient='index')\n",
    "df.columns = ['# hits']\n",
    "df['% hits'] = df['# hits'] / len(vjf_annotation) * 100\n",
    "print(df)"
   ]
  },
  {
   "cell_type": "markdown",
   "metadata": {},
   "source": [
    "## 3.4. VJfinder: Multi chains"
   ]
  },
  {
   "cell_type": "code",
   "execution_count": 35,
   "metadata": {},
   "outputs": [],
   "source": [
    "vjf_filtering_info_fname = PATH + '/{}/vjf_result/filtering_info.csv'.format(dataset_name)"
   ]
  },
  {
   "cell_type": "code",
   "execution_count": 44,
   "metadata": {},
   "outputs": [],
   "source": [
    "vjf_filtering_info = pd.read_csv(vjf_filtering_info_fname, sep='\\t', names=['contig_id', 'what', 'smth'], index_col=0)"
   ]
  },
  {
   "cell_type": "code",
   "execution_count": 45,
   "metadata": {},
   "outputs": [
    {
     "data": {
      "text/html": [
       "<div>\n",
       "<table border=\"1\" class=\"dataframe\">\n",
       "  <thead>\n",
       "    <tr style=\"text-align: right;\">\n",
       "      <th></th>\n",
       "      <th>what</th>\n",
       "      <th>smth</th>\n",
       "    </tr>\n",
       "    <tr>\n",
       "      <th>contig_id</th>\n",
       "      <th></th>\n",
       "      <th></th>\n",
       "    </tr>\n",
       "  </thead>\n",
       "  <tbody>\n",
       "    <tr>\n",
       "      <th>CCAGCGAAGGGTATCG-1_contig_5</th>\n",
       "      <td>VJ_HITS_ARE_EMPTY</td>\n",
       "      <td>NaN</td>\n",
       "    </tr>\n",
       "    <tr>\n",
       "      <th>CGATCGGTCCGTAGTA-1_contig_3</th>\n",
       "      <td>VJ_HITS_ARE_EMPTY</td>\n",
       "      <td>NaN</td>\n",
       "    </tr>\n",
       "    <tr>\n",
       "      <th>CAAGATCCACACAGAG-1_contig_5</th>\n",
       "      <td>VJ_HITS_ARE_EMPTY</td>\n",
       "      <td>NaN</td>\n",
       "    </tr>\n",
       "    <tr>\n",
       "      <th>GGTGCGTGTTCCTCCA-1_contig_1</th>\n",
       "      <td>VJ_HITS_ARE_EMPTY</td>\n",
       "      <td>NaN</td>\n",
       "    </tr>\n",
       "    <tr>\n",
       "      <th>TATGCCCAGGTGCACA-1_contig_2</th>\n",
       "      <td>LEFT_UNCOVERED_LIMIT_EXCEEDS</td>\n",
       "      <td>111.0</td>\n",
       "    </tr>\n",
       "  </tbody>\n",
       "</table>\n",
       "</div>"
      ],
      "text/plain": [
       "                                                     what   smth\n",
       "contig_id                                                       \n",
       "CCAGCGAAGGGTATCG-1_contig_5             VJ_HITS_ARE_EMPTY    NaN\n",
       "CGATCGGTCCGTAGTA-1_contig_3             VJ_HITS_ARE_EMPTY    NaN\n",
       "CAAGATCCACACAGAG-1_contig_5             VJ_HITS_ARE_EMPTY    NaN\n",
       "GGTGCGTGTTCCTCCA-1_contig_1             VJ_HITS_ARE_EMPTY    NaN\n",
       "TATGCCCAGGTGCACA-1_contig_2  LEFT_UNCOVERED_LIMIT_EXCEEDS  111.0"
      ]
     },
     "execution_count": 45,
     "metadata": {},
     "output_type": "execute_result"
    }
   ],
   "source": [
    "vjf_filtering_info.head()"
   ]
  },
  {
   "cell_type": "code",
   "execution_count": 75,
   "metadata": {},
   "outputs": [],
   "source": [
    "def multi_filtered_by_vjf(vjf_filtering_info, vjf_annotation):\n",
    "    multi_id = set(multi_chains.index)\n",
    "    filtered_10x = vjf_filtering_info.loc[vjf_filtering_info.index.isin(multi_id)]\n",
    "    annotated_10x = vjf_annotation.loc[vjf_annotation.index.isin(multi_id)]\n",
    "    return dict(Counter(list(filtered_10x['what']) + list(annotated_10x['Chain_type'])))"
   ]
  },
  {
   "cell_type": "code",
   "execution_count": 78,
   "metadata": {},
   "outputs": [],
   "source": [
    "multi_vjf = multi_filtered_by_vjf(vjf_filtering_info, vjf_annotation)"
   ]
  },
  {
   "cell_type": "code",
   "execution_count": 87,
   "metadata": {},
   "outputs": [
    {
     "name": "stdout",
     "output_type": "stream",
     "text": [
      "Multi chaines annotation from VJF\n",
      "\n",
      "                              # multi contigs  % multi contigs\n",
      "VJ_HITS_ARE_EMPTY                        1055        87.697423\n",
      "IGL                                        97         8.063175\n",
      "IGH                                        21         1.745636\n",
      "IGK                                        14         1.163757\n",
      "LEFT_UNCOVERED_LIMIT_EXCEEDS                6         0.498753\n",
      "SHORT_V_ALIGNMENT                           4         0.332502\n",
      "SHORT_J_ALIGNMENT                           4         0.332502\n",
      "SHORT_ALIGNED_SEGMENT                       2         0.166251\n"
     ]
    }
   ],
   "source": [
    "print('Multi chaines annotation from VJF\\n')\n",
    "df = pd.DataFrame.from_dict(multi_vjf, orient='index')\n",
    "df.columns = ['# multi contigs']\n",
    "df['% multi contigs'] = df['# multi contigs'] / len(multi_chains) * 100\n",
    "print(df.sort_values(by='# multi contigs',  ascending=False))"
   ]
  },
  {
   "cell_type": "markdown",
   "metadata": {},
   "source": [
    "# 4. igBLAST "
   ]
  },
  {
   "cell_type": "markdown",
   "metadata": {},
   "source": [
    "## 4.1. igBLAST and BLAST Multi chains"
   ]
  },
  {
   "cell_type": "code",
   "execution_count": null,
   "metadata": {},
   "outputs": [],
   "source": []
  },
  {
   "cell_type": "markdown",
   "metadata": {},
   "source": [
    "## igBLAST all contigs "
   ]
  },
  {
   "cell_type": "code",
   "execution_count": null,
   "metadata": {},
   "outputs": [],
   "source": []
  },
  {
   "cell_type": "markdown",
   "metadata": {},
   "source": [
    "# 5. My annotation"
   ]
  },
  {
   "cell_type": "code",
   "execution_count": null,
   "metadata": {},
   "outputs": [],
   "source": []
  },
  {
   "cell_type": "markdown",
   "metadata": {},
   "source": [
    "# 6. Final stats"
   ]
  },
  {
   "cell_type": "code",
   "execution_count": null,
   "metadata": {},
   "outputs": [],
   "source": []
  },
  {
   "cell_type": "code",
   "execution_count": null,
   "metadata": {},
   "outputs": [],
   "source": []
  },
  {
   "cell_type": "code",
   "execution_count": null,
   "metadata": {},
   "outputs": [],
   "source": []
  },
  {
   "cell_type": "code",
   "execution_count": null,
   "metadata": {},
   "outputs": [],
   "source": []
  }
 ],
 "metadata": {
  "kernelspec": {
   "display_name": "Python 3",
   "language": "python",
   "name": "python3"
  },
  "language_info": {
   "codemirror_mode": {
    "name": "ipython",
    "version": 2
   },
   "file_extension": ".py",
   "mimetype": "text/x-python",
   "name": "python",
   "nbconvert_exporter": "python",
   "pygments_lexer": "ipython2",
   "version": "2.7.13"
  }
 },
 "nbformat": 4,
 "nbformat_minor": 2
}
